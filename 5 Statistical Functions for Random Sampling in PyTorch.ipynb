{
 "cells": [
  {
   "cell_type": "markdown",
   "metadata": {},
   "source": [
    "# 5 Statistical Functions for Random Sampling in PyTorch\n",
    "\n",
    "An short introduction about PyTorch and about the chosen functions. \n",
    "\n",
    "- torch.bernoulli()\n",
    "- torch.normal()\n",
    "- torch.poisson()\n",
    "- torch.randn()\n",
    "- torch.randperm()"
   ]
  },
  {
   "cell_type": "code",
   "execution_count": 2,
   "metadata": {},
   "outputs": [],
   "source": [
    "# Import torch and other required modules\n",
    "import torch"
   ]
  },
  {
   "cell_type": "markdown",
   "metadata": {},
   "source": [
    "## Function 1 - torch.bernoulli(input, *, generator=None, out=None)\n",
    "\n",
    "It draws binary random numbers (0 or 1) from a Bernoulli distribution and the `output` is of the same shape as input.\n",
    "\n",
    "***Parameters***:\n",
    "\n",
    "**input (Tensor)** – the input tensor of probability values for the Bernoulli distribution\n",
    "\n",
    "***Keyword Arguments***:\n",
    "**generator (torch.Generator, optional)** – a pseudorandom number generator for sampling\n",
    "\n",
    "**out (Tensor, optional)** – the output tensor"
   ]
  },
  {
   "cell_type": "code",
   "execution_count": 3,
   "metadata": {},
   "outputs": [
    {
     "name": "stdout",
     "output_type": "stream",
     "text": [
      "tensor([[0.0643, 0.0690, 0.5069, 0.0323],\n",
      "        [0.3004, 0.6761, 0.1933, 0.7579],\n",
      "        [0.2958, 0.8812, 0.2917, 0.3713],\n",
      "        [0.8113, 0.0845, 0.9176, 0.9883]])\n"
     ]
    },
    {
     "data": {
      "text/plain": [
       "tensor([[0., 0., 1., 0.],\n",
       "        [1., 1., 0., 1.],\n",
       "        [0., 1., 0., 0.],\n",
       "        [1., 1., 1., 1.]])"
      ]
     },
     "execution_count": 3,
     "metadata": {},
     "output_type": "execute_result"
    }
   ],
   "source": [
    "# Example 1 - working\n",
    "rand_m = torch.rand(4, 4) # generate a random matrix of shape 4x4\n",
    "print(rand_m)\n",
    "\n",
    "torch.bernoulli(rand_m) # draws a binary random number (0 or 1)"
   ]
  },
  {
   "cell_type": "markdown",
   "metadata": {},
   "source": [
    "Draws a binary random number (`0` or `1`) for given random matrix."
   ]
  },
  {
   "cell_type": "code",
   "execution_count": 4,
   "metadata": {},
   "outputs": [
    {
     "name": "stdout",
     "output_type": "stream",
     "text": [
      "tensor([[0.1723, 0.1165, 0.3703, 0.8497],\n",
      "        [0.5641, 0.0323, 0.1722, 0.3173],\n",
      "        [0.1663, 0.7910, 0.7019, 0.3336],\n",
      "        [0.8514, 0.7596, 0.9491, 0.4763]])\n"
     ]
    },
    {
     "data": {
      "text/plain": [
       "tensor([[0., 0., 1., 1.],\n",
       "        [1., 0., 0., 0.],\n",
       "        [0., 0., 1., 0.],\n",
       "        [1., 0., 1., 0.]])"
      ]
     },
     "execution_count": 4,
     "metadata": {},
     "output_type": "execute_result"
    }
   ],
   "source": [
    "# Example 2 - working\n",
    "uni_m = torch.empty(4, 4).uniform_(0, 1) # generate a uniform random matrix with range [0, 1]\n",
    "print(uni_m)\n",
    "\n",
    "torch.bernoulli(uni_m) # draws a binary random nubber (0 or 1)"
   ]
  },
  {
   "cell_type": "markdown",
   "metadata": {},
   "source": [
    "Draws a binary random number (`0` or `1`) for given uniform random matrix."
   ]
  },
  {
   "cell_type": "code",
   "execution_count": 5,
   "metadata": {},
   "outputs": [
    {
     "name": "stdout",
     "output_type": "stream",
     "text": [
      "tensor([[1, 1, 1, 1],\n",
      "        [1, 1, 1, 1],\n",
      "        [1, 1, 1, 1],\n",
      "        [1, 1, 1, 1]], dtype=torch.int32)\n"
     ]
    },
    {
     "ename": "RuntimeError",
     "evalue": "\"bernoulli_tensor_cpu_p_\" not implemented for 'Int'",
     "output_type": "error",
     "traceback": [
      "\u001b[1;31m---------------------------------------------------------------------------\u001b[0m",
      "\u001b[1;31mRuntimeError\u001b[0m                              Traceback (most recent call last)",
      "\u001b[1;32m<ipython-input-5-f2e9e169f5cf>\u001b[0m in \u001b[0;36m<module>\u001b[1;34m\u001b[0m\n\u001b[0;32m      3\u001b[0m \u001b[0mprint\u001b[0m\u001b[1;33m(\u001b[0m\u001b[0mb\u001b[0m\u001b[1;33m)\u001b[0m\u001b[1;33m\u001b[0m\u001b[1;33m\u001b[0m\u001b[0m\n\u001b[0;32m      4\u001b[0m \u001b[1;33m\u001b[0m\u001b[0m\n\u001b[1;32m----> 5\u001b[1;33m \u001b[0mtorch\u001b[0m\u001b[1;33m.\u001b[0m\u001b[0mbernoulli\u001b[0m\u001b[1;33m(\u001b[0m\u001b[0mb\u001b[0m\u001b[1;33m)\u001b[0m\u001b[1;33m\u001b[0m\u001b[1;33m\u001b[0m\u001b[0m\n\u001b[0m",
      "\u001b[1;31mRuntimeError\u001b[0m: \"bernoulli_tensor_cpu_p_\" not implemented for 'Int'"
     ]
    }
   ],
   "source": [
    "# Example 3 - breaking (to illustrate when it breaks)\n",
    "b = torch.ones(4, 4, dtype = torch.int32) # generate a matrix of shape 4x4 with 1 on each element\n",
    "print(b)\n",
    "\n",
    "torch.bernoulli(b)"
   ]
  },
  {
   "cell_type": "markdown",
   "metadata": {},
   "source": [
    "For Bernoulli Distribution `output` can have integral `dtype`, but input must have floating point `dtype`."
   ]
  },
  {
   "cell_type": "markdown",
   "metadata": {},
   "source": [
    "Bernoulli Distribution is a random experiment that has only two outcomes (usually called a `Success` or a `Failure`). \n",
    "\n",
    "It is best used when for a given event we have two outcomes."
   ]
  },
  {
   "cell_type": "markdown",
   "metadata": {},
   "source": [
    "## Function 2 - torch.normal(mean, std, *, generator=None, out=None)\n",
    "\n",
    "Returns a tensor of random numbers drawn from separate normal distributions whose mean and standard deviation are given.\n",
    "\n",
    "The `mean` is a tensor with the mean of each output element’s normal distribution\n",
    "\n",
    "The `std` is a tensor with the standard deviation of each output element’s normal distribution\n",
    "\n",
    "The shapes of `mean` and `std` don’t need to match, but the total number of elements in each tensor need to be the same.\n",
    "\n",
    "***Parameters***:\n",
    "\n",
    "**mean (Tensor)** – the tensor of per-element means\n",
    "\n",
    "**std (Tensor)** – the tensor of per-element standard deviations\n",
    "\n",
    "***Keyword Arguments***:\n",
    "\n",
    "**generator (torch.Generator, optional)** – a pseudorandom number generator for sampling\n",
    "\n",
    "**out (Tensor, optional)** – the output tensor"
   ]
  },
  {
   "cell_type": "code",
   "execution_count": 6,
   "metadata": {},
   "outputs": [
    {
     "data": {
      "text/plain": [
       "tensor([ 1.2426,  3.9152,  1.9166,  3.5866,  4.1520,  6.2800,  6.4655,  7.8572,\n",
       "         8.9195, 10.0185])"
      ]
     },
     "execution_count": 6,
     "metadata": {},
     "output_type": "execute_result"
    }
   ],
   "source": [
    "# Example 1 - working\n",
    "torch.normal(mean = torch.arange(1., 11.), std = torch.arange(1, 0, -0.1))"
   ]
  },
  {
   "cell_type": "markdown",
   "metadata": {},
   "source": [
    "It returns a tensor of random numbers drawn from separate normal distributions."
   ]
  },
  {
   "cell_type": "code",
   "execution_count": 7,
   "metadata": {},
   "outputs": [
    {
     "data": {
      "text/plain": [
       "tensor([0.0205, 0.4621, 3.4993, 4.7508, 5.3769])"
      ]
     },
     "execution_count": 7,
     "metadata": {},
     "output_type": "execute_result"
    }
   ],
   "source": [
    "# Example 2 - working\n",
    "torch.normal(mean = torch.arange(1., 6.))"
   ]
  },
  {
   "cell_type": "markdown",
   "metadata": {},
   "source": [
    "It returns a tensor of random numbers drawn from separate normal distributions whose standard deviation is 1."
   ]
  },
  {
   "cell_type": "code",
   "execution_count": 8,
   "metadata": {
    "scrolled": false
   },
   "outputs": [
    {
     "ename": "TypeError",
     "evalue": "normal() received an invalid combination of arguments - got (mean=int, std=int, ), but expected one of:\n * (Tensor mean, Tensor std, *, torch.Generator generator, Tensor out)\n * (Tensor mean, float std, *, torch.Generator generator, Tensor out)\n * (float mean, Tensor std, *, torch.Generator generator, Tensor out)\n * (float mean, float std, tuple of ints size, *, torch.Generator generator, Tensor out, torch.dtype dtype, torch.layout layout, torch.device device, bool pin_memory, bool requires_grad)\n",
     "output_type": "error",
     "traceback": [
      "\u001b[1;31m---------------------------------------------------------------------------\u001b[0m",
      "\u001b[1;31mTypeError\u001b[0m                                 Traceback (most recent call last)",
      "\u001b[1;32m<ipython-input-8-4d4008ff4033>\u001b[0m in \u001b[0;36m<module>\u001b[1;34m\u001b[0m\n\u001b[0;32m      1\u001b[0m \u001b[1;31m# Example 3 - breaking (to illustrate when it breaks)\u001b[0m\u001b[1;33m\u001b[0m\u001b[1;33m\u001b[0m\u001b[1;33m\u001b[0m\u001b[0m\n\u001b[1;32m----> 2\u001b[1;33m \u001b[0mtorch\u001b[0m\u001b[1;33m.\u001b[0m\u001b[0mnormal\u001b[0m\u001b[1;33m(\u001b[0m\u001b[0mmean\u001b[0m \u001b[1;33m=\u001b[0m \u001b[1;36m0\u001b[0m\u001b[1;33m,\u001b[0m \u001b[0mstd\u001b[0m \u001b[1;33m=\u001b[0m \u001b[1;36m1\u001b[0m\u001b[1;33m)\u001b[0m\u001b[1;33m\u001b[0m\u001b[1;33m\u001b[0m\u001b[0m\n\u001b[0m",
      "\u001b[1;31mTypeError\u001b[0m: normal() received an invalid combination of arguments - got (mean=int, std=int, ), but expected one of:\n * (Tensor mean, Tensor std, *, torch.Generator generator, Tensor out)\n * (Tensor mean, float std, *, torch.Generator generator, Tensor out)\n * (float mean, Tensor std, *, torch.Generator generator, Tensor out)\n * (float mean, float std, tuple of ints size, *, torch.Generator generator, Tensor out, torch.dtype dtype, torch.layout layout, torch.device device, bool pin_memory, bool requires_grad)\n"
     ]
    }
   ],
   "source": [
    "# Example 3 - breaking (to illustrate when it breaks)\n",
    "torch.normal(mean = 0, std = 1)"
   ]
  },
  {
   "cell_type": "markdown",
   "metadata": {},
   "source": [
    "It does not work when mean is 0 and std is 1."
   ]
  },
  {
   "cell_type": "markdown",
   "metadata": {},
   "source": [
    "The normal distribution is a probability function that describes how the values of a variable are distributed."
   ]
  },
  {
   "cell_type": "markdown",
   "metadata": {},
   "source": [
    "## Function 3 - torch.poisson(input *, generator=None)\n",
    "\n",
    "It returns a tensor of the same size as `input` with each element sampled from a Poisson distribution with rate parameter given by the corresponding element in `input`.\n",
    "\n",
    "***Parameters***:\n",
    "\n",
    "**input (Tensor)** – the input tensor of probability values for the Bernoulli distribution\n",
    "\n",
    "***Keyword Arguments***:\n",
    "\n",
    "**generator (torch.Generator, optional)** – a pseudorandom number generator for sampling\n",
    "\n",
    "**out (Tensor, optional)** – the output tensor."
   ]
  },
  {
   "cell_type": "code",
   "execution_count": 9,
   "metadata": {},
   "outputs": [
    {
     "name": "stdout",
     "output_type": "stream",
     "text": [
      "tensor([[3.0679, 3.7367, 1.9038, 1.6546],\n",
      "        [1.8523, 1.0336, 3.4176, 3.6221],\n",
      "        [3.7246, 2.7234, 0.6564, 0.5517],\n",
      "        [2.0784, 3.7418, 1.3999, 2.3717]])\n"
     ]
    },
    {
     "data": {
      "text/plain": [
       "tensor([[2., 6., 1., 2.],\n",
       "        [2., 0., 3., 8.],\n",
       "        [4., 3., 0., 0.],\n",
       "        [1., 3., 3., 2.]])"
      ]
     },
     "execution_count": 9,
     "metadata": {},
     "output_type": "execute_result"
    }
   ],
   "source": [
    "# Example 1 - working\n",
    "rates = torch.rand(4, 4) * 4  # rate parameter between 0 and 4\n",
    "print(rates)\n",
    "\n",
    "torch.poisson(rates)"
   ]
  },
  {
   "cell_type": "markdown",
   "metadata": {},
   "source": [
    "Returns a output from a poisson distribution for input tensor containing rate parameter between 0 and 4."
   ]
  },
  {
   "cell_type": "code",
   "execution_count": 10,
   "metadata": {},
   "outputs": [
    {
     "name": "stdout",
     "output_type": "stream",
     "text": [
      "tensor([[1.3724, 5.5118, 5.4870, 5.1002],\n",
      "        [0.9739, 2.7864, 2.1179, 3.6325],\n",
      "        [6.7643, 5.6531, 1.9739, 2.6923],\n",
      "        [2.5331, 6.6457, 4.4047, 2.9525],\n",
      "        [5.1334, 5.9861, 3.9731, 4.5331]])\n"
     ]
    },
    {
     "data": {
      "text/plain": [
       "tensor([[ 2.,  5.,  6.,  4.],\n",
       "        [ 2.,  2.,  6.,  5.],\n",
       "        [11.,  3.,  3.,  4.],\n",
       "        [ 4.,  9.,  5.,  4.],\n",
       "        [ 6.,  6.,  5.,  4.]])"
      ]
     },
     "execution_count": 10,
     "metadata": {},
     "output_type": "execute_result"
    }
   ],
   "source": [
    "# Example 2 - working\n",
    "rates = torch.rand(5, 4) * 7  # rate parameter between 0 and 7\n",
    "print(rates)\n",
    "\n",
    "torch.poisson(rates)"
   ]
  },
  {
   "cell_type": "markdown",
   "metadata": {},
   "source": [
    "Returns a output from a poisson distribution for input tensor containing rate parameter between 0 and 7."
   ]
  },
  {
   "cell_type": "code",
   "execution_count": 11,
   "metadata": {
    "scrolled": true
   },
   "outputs": [
    {
     "name": "stdout",
     "output_type": "stream",
     "text": [
      "tensor([[1, 1, 1],\n",
      "        [1, 1, 1],\n",
      "        [1, 1, 1]], dtype=torch.int32)\n"
     ]
    },
    {
     "ename": "RuntimeError",
     "evalue": "\"poisson_cpu\" not implemented for 'Int'",
     "output_type": "error",
     "traceback": [
      "\u001b[1;31m---------------------------------------------------------------------------\u001b[0m",
      "\u001b[1;31mRuntimeError\u001b[0m                              Traceback (most recent call last)",
      "\u001b[1;32m<ipython-input-11-6af41e85f77e>\u001b[0m in \u001b[0;36m<module>\u001b[1;34m\u001b[0m\n\u001b[0;32m      3\u001b[0m \u001b[0mprint\u001b[0m\u001b[1;33m(\u001b[0m\u001b[0mrates\u001b[0m\u001b[1;33m)\u001b[0m\u001b[1;33m\u001b[0m\u001b[1;33m\u001b[0m\u001b[0m\n\u001b[0;32m      4\u001b[0m \u001b[1;33m\u001b[0m\u001b[0m\n\u001b[1;32m----> 5\u001b[1;33m \u001b[0mtorch\u001b[0m\u001b[1;33m.\u001b[0m\u001b[0mpoisson\u001b[0m\u001b[1;33m(\u001b[0m\u001b[0mrates\u001b[0m\u001b[1;33m)\u001b[0m\u001b[1;33m\u001b[0m\u001b[1;33m\u001b[0m\u001b[0m\n\u001b[0m",
      "\u001b[1;31mRuntimeError\u001b[0m: \"poisson_cpu\" not implemented for 'Int'"
     ]
    }
   ],
   "source": [
    "# Example 3 - breaking (to illustrate when it breaks)\n",
    "rates = torch.ones(3,3, dtype = torch.int32)\n",
    "print(rates)\n",
    "\n",
    "torch.poisson(rates)"
   ]
  },
  {
   "cell_type": "markdown",
   "metadata": {},
   "source": [
    "Poisson Distribution not worked with `Integral datatype`."
   ]
  },
  {
   "cell_type": "markdown",
   "metadata": {},
   "source": [
    "The Poisson distribution shows how many times an event is likely to occur within a specified period of time."
   ]
  },
  {
   "cell_type": "markdown",
   "metadata": {},
   "source": [
    "## Function 4 - torch.randn(*size, *, out=None, dtype=None, layout=torch.strided, device=None, requires_grad=False)\n",
    "\n",
    "It returns a tensor filled with random numbers from a normal distribution with mean `0` and variance `1` (also called the `standard normal distribution`).\n",
    "\n",
    "***Parameters***:\n",
    "\n",
    "**size (int...)** – a sequence of integers defining the shape of the output tensor. Can be a variable number of arguments or a collection like a list or tuple.\n",
    "\n",
    "***Keyword Arguments***:\n",
    "\n",
    "**out (Tensor, optional)** – the output tensor.\n",
    "\n",
    "**dtype (torch.dtype, optional)** – the desired data type of returned tensor. Default: if None, uses a global default (see torch.set_default_tensor_type()).\n",
    "\n",
    "**layout (torch.layout, optional)** – the desired layout of returned Tensor. Default: torch.strided.\n",
    "\n",
    "**device (torch.device, optional)** – the desired device of returned tensor. Default: if None, uses the current device for the default tensor type (see torch.set_default_tensor_type()). device will be the CPU for CPU tensor types and the current CUDA device for CUDA tensor types.\n",
    "\n",
    "**requires_grad (bool, optional)** – If autograd should record operations on the returned tensor. Default: False."
   ]
  },
  {
   "cell_type": "code",
   "execution_count": 12,
   "metadata": {},
   "outputs": [
    {
     "data": {
      "text/plain": [
       "tensor([-0.7137, -0.5516,  0.4733,  0.4774])"
      ]
     },
     "execution_count": 12,
     "metadata": {},
     "output_type": "execute_result"
    }
   ],
   "source": [
    "# Example 1 - working\n",
    "torch.randn(4)"
   ]
  },
  {
   "cell_type": "markdown",
   "metadata": {},
   "source": [
    "For a given 1-D input tensor it returns random numbers from standard normal distribution."
   ]
  },
  {
   "cell_type": "code",
   "execution_count": 13,
   "metadata": {},
   "outputs": [
    {
     "data": {
      "text/plain": [
       "tensor([[ 1.4962, -0.3302, -0.1390,  0.1099],\n",
       "        [ 0.7223,  0.8696, -2.1832,  0.6171],\n",
       "        [-1.0721, -1.7165, -0.3011, -0.5699],\n",
       "        [ 1.1563,  1.7144, -0.4076, -0.8162]])"
      ]
     },
     "execution_count": 13,
     "metadata": {},
     "output_type": "execute_result"
    }
   ],
   "source": [
    "# Example 2 - working\n",
    "torch.randn(4,4)"
   ]
  },
  {
   "cell_type": "markdown",
   "metadata": {},
   "source": [
    "For a given 2-D input it returns random numbers from standard normal distribution."
   ]
  },
  {
   "cell_type": "code",
   "execution_count": 14,
   "metadata": {
    "scrolled": false
   },
   "outputs": [
    {
     "ename": "RuntimeError",
     "evalue": "\"normal_kernel_cpu\" not implemented for 'Int'",
     "output_type": "error",
     "traceback": [
      "\u001b[1;31m---------------------------------------------------------------------------\u001b[0m",
      "\u001b[1;31mRuntimeError\u001b[0m                              Traceback (most recent call last)",
      "\u001b[1;32m<ipython-input-14-d1daf1b36e74>\u001b[0m in \u001b[0;36m<module>\u001b[1;34m\u001b[0m\n\u001b[0;32m      1\u001b[0m \u001b[1;31m# Example 3 - breaking (to illustrate when it breaks)\u001b[0m\u001b[1;33m\u001b[0m\u001b[1;33m\u001b[0m\u001b[1;33m\u001b[0m\u001b[0m\n\u001b[1;32m----> 2\u001b[1;33m \u001b[0mtorch\u001b[0m\u001b[1;33m.\u001b[0m\u001b[0mrandn\u001b[0m\u001b[1;33m(\u001b[0m\u001b[1;36m4\u001b[0m\u001b[1;33m,\u001b[0m \u001b[1;36m5\u001b[0m\u001b[1;33m,\u001b[0m \u001b[0mdtype\u001b[0m \u001b[1;33m=\u001b[0m \u001b[0mtorch\u001b[0m\u001b[1;33m.\u001b[0m\u001b[0mint32\u001b[0m\u001b[1;33m)\u001b[0m\u001b[1;33m\u001b[0m\u001b[1;33m\u001b[0m\u001b[0m\n\u001b[0m",
      "\u001b[1;31mRuntimeError\u001b[0m: \"normal_kernel_cpu\" not implemented for 'Int'"
     ]
    }
   ],
   "source": [
    "# Example 3 - breaking (to illustrate when it breaks)\n",
    "torch.randn(4, 5, dtype = torch.int32)"
   ]
  },
  {
   "cell_type": "markdown",
   "metadata": {},
   "source": [
    "`randn` or we can say Standard Normal Distribution not worked with `Integral datatype`."
   ]
  },
  {
   "cell_type": "markdown",
   "metadata": {},
   "source": [
    "`Standard Normal Distribution` has a `standard score` or we can say `z-score` is used to calculate the probability of a score occurring within our normal distribution and allows us to compare two scores that are from different normal distributions."
   ]
  },
  {
   "cell_type": "markdown",
   "metadata": {},
   "source": [
    "## Function 5 - torch.randperm(n, *, out=None, dtype=torch.int64, layout=torch.strided, device=None, requires_grad=False)\n",
    "\n",
    "It returns a random permutation of integers from `0` to `n - 1`.\n",
    "\n",
    "***Parameters***:\n",
    "\n",
    "**n (int)** – the upper bound (exclusive)\n",
    "\n",
    "***Keyword Arguments***:\n",
    "\n",
    "**out (Tensor, optional)** – the output tensor.\n",
    "\n",
    "**dtype (torch.dtype, optional)** – the desired data type of returned tensor. Default: `torch.int64`.\n",
    "\n",
    "**layout (torch.layout, optional)** – the desired layout of returned Tensor. Default: `torch.strided`.\n",
    "\n",
    "**device (torch.device, optional)** – the desired device of returned tensor. Default: if `None`, uses the current device for the default tensor type (see `torch.set_default_tensor_type()`). device will be the `CPU` for `CPU` tensor types and the current `CUDA` device for `CUDA` tensor types.\n",
    "\n",
    "**requires_grad (bool, optional)** – If `autograd` should record operations on the returned tensor. Default: `False`."
   ]
  },
  {
   "cell_type": "code",
   "execution_count": 15,
   "metadata": {},
   "outputs": [
    {
     "data": {
      "text/plain": [
       "tensor([2, 0, 3, 4, 1])"
      ]
     },
     "execution_count": 15,
     "metadata": {},
     "output_type": "execute_result"
    }
   ],
   "source": [
    "# Example 1 - working\n",
    "torch.randperm(5)"
   ]
  },
  {
   "cell_type": "markdown",
   "metadata": {},
   "source": [
    "It returns the random arrangement of the given upper bound no."
   ]
  },
  {
   "cell_type": "code",
   "execution_count": 16,
   "metadata": {
    "scrolled": true
   },
   "outputs": [
    {
     "data": {
      "text/plain": [
       "tensor([6, 2, 7, 5, 1, 0, 3, 4, 8])"
      ]
     },
     "execution_count": 16,
     "metadata": {},
     "output_type": "execute_result"
    }
   ],
   "source": [
    "# Example 2 - working\n",
    "torch.randperm(9)"
   ]
  },
  {
   "cell_type": "markdown",
   "metadata": {},
   "source": [
    "It also returns the random permutation of the upper bound no. 9."
   ]
  },
  {
   "cell_type": "code",
   "execution_count": 17,
   "metadata": {
    "scrolled": false
   },
   "outputs": [
    {
     "ename": "TypeError",
     "evalue": "randperm() received an invalid combination of arguments - got (Tensor, dtype=torch.dtype), but expected one of:\n * (int n, *, torch.Generator generator, Tensor out, torch.dtype dtype, torch.layout layout, torch.device device, bool pin_memory, bool requires_grad)\n * (int n, *, Tensor out, torch.dtype dtype, torch.layout layout, torch.device device, bool pin_memory, bool requires_grad)\n",
     "output_type": "error",
     "traceback": [
      "\u001b[1;31m---------------------------------------------------------------------------\u001b[0m",
      "\u001b[1;31mTypeError\u001b[0m                                 Traceback (most recent call last)",
      "\u001b[1;32m<ipython-input-17-7704bac8969d>\u001b[0m in \u001b[0;36m<module>\u001b[1;34m\u001b[0m\n\u001b[0;32m      1\u001b[0m \u001b[1;31m# Example 3 - breaking (to illustrate when it breaks)\u001b[0m\u001b[1;33m\u001b[0m\u001b[1;33m\u001b[0m\u001b[1;33m\u001b[0m\u001b[0m\n\u001b[1;32m----> 2\u001b[1;33m \u001b[0mtorch\u001b[0m\u001b[1;33m.\u001b[0m\u001b[0mrandperm\u001b[0m\u001b[1;33m(\u001b[0m\u001b[0mtorch\u001b[0m\u001b[1;33m.\u001b[0m\u001b[0marange\u001b[0m\u001b[1;33m(\u001b[0m\u001b[1;36m1\u001b[0m\u001b[1;33m,\u001b[0m \u001b[1;36m10\u001b[0m\u001b[1;33m,\u001b[0m \u001b[1;36m1\u001b[0m\u001b[1;33m)\u001b[0m\u001b[1;33m,\u001b[0m \u001b[0mdtype\u001b[0m \u001b[1;33m=\u001b[0m \u001b[0mtorch\u001b[0m\u001b[1;33m.\u001b[0m\u001b[0mfloat64\u001b[0m\u001b[1;33m)\u001b[0m\u001b[1;33m\u001b[0m\u001b[1;33m\u001b[0m\u001b[0m\n\u001b[0m",
      "\u001b[1;31mTypeError\u001b[0m: randperm() received an invalid combination of arguments - got (Tensor, dtype=torch.dtype), but expected one of:\n * (int n, *, torch.Generator generator, Tensor out, torch.dtype dtype, torch.layout layout, torch.device device, bool pin_memory, bool requires_grad)\n * (int n, *, Tensor out, torch.dtype dtype, torch.layout layout, torch.device device, bool pin_memory, bool requires_grad)\n"
     ]
    }
   ],
   "source": [
    "# Example 3 - breaking (to illustrate when it breaks)\n",
    "torch.randperm(torch.arange(1, 10, 1), dtype = torch.float64)"
   ]
  },
  {
   "cell_type": "markdown",
   "metadata": {},
   "source": [
    "It can only work with integers not for tensor inputs."
   ]
  },
  {
   "cell_type": "markdown",
   "metadata": {},
   "source": [
    "Random Permutation is used when order of the lists matters."
   ]
  },
  {
   "cell_type": "markdown",
   "metadata": {},
   "source": [
    "## Conclusion"
   ]
  },
  {
   "cell_type": "markdown",
   "metadata": {},
   "source": [
    "These are the 5 statistical PyTorch function for Random Sampling that I find interesting. There are a number of other useful functions. You can refer to the official documentation for the complete list of available Sampling functions."
   ]
  },
  {
   "cell_type": "markdown",
   "metadata": {},
   "source": [
    "## Reference Links\n",
    "\n",
    "Official documentation for torch and tensor operations: \n",
    "- https://pytorch.org/docs/stable/torch.html\n",
    "- https://pytorch.org/docs/stable/tensors.html\n"
   ]
  },
  {
   "cell_type": "markdown",
   "metadata": {},
   "source": []
  }
 ],
 "metadata": {
  "kernelspec": {
   "display_name": "Python 3",
   "language": "python",
   "name": "python3"
  },
  "language_info": {
   "codemirror_mode": {
    "name": "ipython",
    "version": 3
   },
   "file_extension": ".py",
   "mimetype": "text/x-python",
   "name": "python",
   "nbconvert_exporter": "python",
   "pygments_lexer": "ipython3",
   "version": "3.7.4"
  },
  "toc": {
   "base_numbering": 1,
   "nav_menu": {},
   "number_sections": true,
   "sideBar": true,
   "skip_h1_title": false,
   "title_cell": "Table of Contents",
   "title_sidebar": "Contents",
   "toc_cell": false,
   "toc_position": {},
   "toc_section_display": true,
   "toc_window_display": false
  }
 },
 "nbformat": 4,
 "nbformat_minor": 4
}
